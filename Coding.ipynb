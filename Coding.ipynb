{
  "nbformat": 4,
  "nbformat_minor": 0,
  "metadata": {
    "colab": {
      "name": "Coding.ipynb",
      "provenance": [],
      "collapsed_sections": [],
      "authorship_tag": "ABX9TyN5x7MKmLA6CEjnkTZLx4Dh",
      "include_colab_link": true
    },
    "kernelspec": {
      "name": "python3",
      "display_name": "Python 3"
    }
  },
  "cells": [
    {
      "cell_type": "markdown",
      "metadata": {
        "id": "view-in-github",
        "colab_type": "text"
      },
      "source": [
        "<a href=\"https://colab.research.google.com/github/ArihantPatawari/CodingPuzzles/blob/main/Coding.ipynb\" target=\"_parent\"><img src=\"https://colab.research.google.com/assets/colab-badge.svg\" alt=\"Open In Colab\"/></a>"
      ]
    },
    {
      "cell_type": "code",
      "metadata": {
        "id": "CZ-H96uAo-fH",
        "outputId": "d9d98501-e2cb-4be9-b5e2-363f2945c548",
        "colab": {
          "base_uri": "https://localhost:8080/",
          "height": 136
        }
      },
      "source": [
        "import math\n",
        "\n",
        "def ReturnSumArray(inputArr):\n",
        "  lenArr = len(inputArr)\n",
        "  if lenArr == 1 or lenArr == 0:\n",
        "    return inputArr\n",
        "  prodLeft = [0] * lenArr\n",
        "  prodRight = [0] * lenArr\n",
        "  prodResult = [0] * lenArr\n",
        "  prodLeft[0] = inputArr[0]\n",
        "  prodRight[lenArr - 1] = inputArr[lenArr - 1]\n",
        "\n",
        "  for i in range(1, lenArr):\n",
        "      prodLeft[i] = prodLeft[i-1] * inputArr[i]\n",
        "      prodRight[lenArr - i - 1] = prodRight[lenArr - i] * inputArr[lenArr - i - 1] \n",
        "\n",
        "  print(prodLeft, prodRight)\n",
        "  prodResult[0] = prodRight[1]\n",
        "  prodResult[lenArr - 1] = prodLeft[lenArr - 2]\n",
        "  for i in range(1, lenArr-1):\n",
        "    prodResult[i] = prodLeft[i-1] * prodRight[i+1]\n",
        "  print(prodResult)\n",
        "  return prodResult\n",
        "\n",
        "ReturnSumArray([3,2,1])\n",
        "ReturnSumArray([1, 2, 3, 4, 5])\n",
        "ReturnSumArray([3,4])\n",
        "ReturnSumArray([3])\n",
        "ReturnSumArray([])\n",
        "    \n",
        "       \n"
      ],
      "execution_count": null,
      "outputs": [
        {
          "output_type": "stream",
          "text": [
            "[3, 6, 6] [6, 2, 1]\n",
            "[2, 3, 6]\n",
            "[1, 2, 6, 24, 120] [120, 120, 60, 20, 5]\n",
            "[120, 60, 40, 30, 24]\n",
            "[3, 12] [12, 4]\n",
            "[4, 3]\n"
          ],
          "name": "stdout"
        },
        {
          "output_type": "execute_result",
          "data": {
            "text/plain": [
              "[]"
            ]
          },
          "metadata": {
            "tags": []
          },
          "execution_count": 4
        }
      ]
    },
    {
      "cell_type": "code",
      "metadata": {
        "id": "ZDMkyb9hYyus",
        "outputId": "e5158e6f-576d-42bc-db0c-adb9bcb39146",
        "colab": {
          "base_uri": "https://localhost:8080/",
          "height": 85
        }
      },
      "source": [
        "def subArr(inputArr, X):\n",
        "  lenArr = len(inputArr)\n",
        "  numCount = lenArr + 1\n",
        "  i=0\n",
        "  j=0\n",
        "  sumArr = 0\n",
        "  while(j < lenArr):\n",
        "    sumArr += inputArr[j]\n",
        "    j += 1\n",
        "    if (sumArr > X and numCount > (j-i)):\n",
        "      numCount = j -i\n",
        "      while( sumArr > X and i <= j):\n",
        "        sumArr -= inputArr[i]\n",
        "        i += 1\n",
        "      if (numCount > (j-i + 1)):\n",
        "        numCount = j -i + 1\n",
        "  if numCount > lenArr:\n",
        "    numCount = \"Not Possible\"\n",
        "  print(numCount)\n",
        "\n",
        "\n",
        "subArr([1, 10, 5, 2, 7], 9)\n",
        "subArr([1, 4, 45, 6, 0, 19], 51)\n",
        "subArr([1, 11, 100, 1, 0, 200, 3, 2, 1, 250], 280)\n",
        "subArr([1, 2, 4], 8)"
      ],
      "execution_count": null,
      "outputs": [
        {
          "output_type": "stream",
          "text": [
            "1\n",
            "3\n",
            "4\n",
            "Not Possible\n"
          ],
          "name": "stdout"
        }
      ]
    },
    {
      "cell_type": "code",
      "metadata": {
        "id": "2oTyq7-9ix01",
        "outputId": "ae21c147-fb6e-43ab-c7e4-c688ef0f3b89",
        "colab": {
          "base_uri": "https://localhost:8080/",
          "height": 34
        }
      },
      "source": [
        "import collections\n",
        "\n",
        "def abc():\n",
        "  print(str(dict(collections.Counter(\"sdffg\"))))\n",
        "\n",
        "abc()"
      ],
      "execution_count": null,
      "outputs": [
        {
          "output_type": "stream",
          "text": [
            "{'s': 1, 'd': 1, 'f': 2, 'g': 1}\n"
          ],
          "name": "stdout"
        }
      ]
    }
  ]
}